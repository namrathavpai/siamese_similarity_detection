{
  "nbformat": 4,
  "nbformat_minor": 0,
  "metadata": {
    "colab": {
      "name": "siamese_similarity_on_kaggale_dataset.ipynb",
      "provenance": []
    },
    "kernelspec": {
      "name": "python3",
      "display_name": "Python 3"
    },
    "language_info": {
      "name": "python"
    }
  },
  "cells": [
    {
      "cell_type": "code",
      "metadata": {
        "id": "ZwTNmIQjEYmx"
      },
      "source": [
        "import pandas as pd \n",
        "import numpy as np \n",
        "import tensorflow as tf"
      ],
      "execution_count": null,
      "outputs": []
    },
    {
      "cell_type": "code",
      "metadata": {
        "id": "yOdMjEJHShA0"
      },
      "source": [
        "https://www.coursera.org/account/accomplishments/verify/GFWBJCDHKN7Zhttps://www.coursera.org/account/accomplishments/verify/GFWBJCDHKN7Z"
      ],
      "execution_count": null,
      "outputs": []
    },
    {
      "cell_type": "code",
      "metadata": {
        "id": "79HMvfAgEp4_"
      },
      "source": [
        "df=pd.read_csv(\"/content/train.csv\")"
      ],
      "execution_count": null,
      "outputs": []
    },
    {
      "cell_type": "code",
      "metadata": {
        "colab": {
          "base_uri": "https://localhost:8080/",
          "height": 493
        },
        "id": "SH8xqyE6Hxc9",
        "outputId": "0bb3127a-530e-4a95-e36b-01e52131f739"
      },
      "source": [
        "df"
      ],
      "execution_count": null,
      "outputs": [
        {
          "output_type": "execute_result",
          "data": {
            "text/html": [
              "<div>\n",
              "<style scoped>\n",
              "    .dataframe tbody tr th:only-of-type {\n",
              "        vertical-align: middle;\n",
              "    }\n",
              "\n",
              "    .dataframe tbody tr th {\n",
              "        vertical-align: top;\n",
              "    }\n",
              "\n",
              "    .dataframe thead th {\n",
              "        text-align: right;\n",
              "    }\n",
              "</style>\n",
              "<table border=\"1\" class=\"dataframe\">\n",
              "  <thead>\n",
              "    <tr style=\"text-align: right;\">\n",
              "      <th></th>\n",
              "      <th>Unnamed: 0</th>\n",
              "      <th>description_x</th>\n",
              "      <th>description_y</th>\n",
              "      <th>ticker_x</th>\n",
              "      <th>ticker_y</th>\n",
              "      <th>same_security</th>\n",
              "    </tr>\n",
              "  </thead>\n",
              "  <tbody>\n",
              "    <tr>\n",
              "      <th>0</th>\n",
              "      <td>0</td>\n",
              "      <td>first trust dow jones internet</td>\n",
              "      <td>first trust dj internet idx</td>\n",
              "      <td>FDN</td>\n",
              "      <td>FDN</td>\n",
              "      <td>True</td>\n",
              "    </tr>\n",
              "    <tr>\n",
              "      <th>1</th>\n",
              "      <td>1</td>\n",
              "      <td>schwab intl large company index etf</td>\n",
              "      <td>schwab strategic tr fundamental intl large co ...</td>\n",
              "      <td>FNDF</td>\n",
              "      <td>FNDF</td>\n",
              "      <td>True</td>\n",
              "    </tr>\n",
              "    <tr>\n",
              "      <th>2</th>\n",
              "      <td>2</td>\n",
              "      <td>vanguard small cap index adm</td>\n",
              "      <td>vanguard small-cap index fund inst</td>\n",
              "      <td>VSMAX</td>\n",
              "      <td>VSCIX</td>\n",
              "      <td>False</td>\n",
              "    </tr>\n",
              "    <tr>\n",
              "      <th>3</th>\n",
              "      <td>3</td>\n",
              "      <td>duke energy corp new com new isin #us4 sedol #...</td>\n",
              "      <td>duke energy corp new com new isin #us26441c204...</td>\n",
              "      <td>DUK</td>\n",
              "      <td>DUK</td>\n",
              "      <td>True</td>\n",
              "    </tr>\n",
              "    <tr>\n",
              "      <th>4</th>\n",
              "      <td>4</td>\n",
              "      <td>visa inc class a</td>\n",
              "      <td>visa inc.</td>\n",
              "      <td>V</td>\n",
              "      <td>V</td>\n",
              "      <td>True</td>\n",
              "    </tr>\n",
              "    <tr>\n",
              "      <th>...</th>\n",
              "      <td>...</td>\n",
              "      <td>...</td>\n",
              "      <td>...</td>\n",
              "      <td>...</td>\n",
              "      <td>...</td>\n",
              "      <td>...</td>\n",
              "    </tr>\n",
              "    <tr>\n",
              "      <th>2137</th>\n",
              "      <td>2137</td>\n",
              "      <td>delta air lines inc com</td>\n",
              "      <td>delta air lines inc dela new</td>\n",
              "      <td>DAL</td>\n",
              "      <td>DAL</td>\n",
              "      <td>True</td>\n",
              "    </tr>\n",
              "    <tr>\n",
              "      <th>2138</th>\n",
              "      <td>2138</td>\n",
              "      <td>cognizant tech solutns a</td>\n",
              "      <td>cognizant tech solutions corp</td>\n",
              "      <td>CTSH</td>\n",
              "      <td>CTSH</td>\n",
              "      <td>True</td>\n",
              "    </tr>\n",
              "    <tr>\n",
              "      <th>2139</th>\n",
              "      <td>2139</td>\n",
              "      <td>pimco investment grade corporate bond fund - c...</td>\n",
              "      <td>fid conservative income bond fund</td>\n",
              "      <td>PBDAX</td>\n",
              "      <td>FCONX</td>\n",
              "      <td>False</td>\n",
              "    </tr>\n",
              "    <tr>\n",
              "      <th>2140</th>\n",
              "      <td>2140</td>\n",
              "      <td>eli lilly &amp; co com</td>\n",
              "      <td>lilly eli &amp;co com npv</td>\n",
              "      <td>LLY</td>\n",
              "      <td>LLY</td>\n",
              "      <td>True</td>\n",
              "    </tr>\n",
              "    <tr>\n",
              "      <th>2141</th>\n",
              "      <td>2141</td>\n",
              "      <td>dfa comm strategy i</td>\n",
              "      <td>dfa commodity strategy port</td>\n",
              "      <td>DCMSX</td>\n",
              "      <td>DCMSX</td>\n",
              "      <td>True</td>\n",
              "    </tr>\n",
              "  </tbody>\n",
              "</table>\n",
              "<p>2142 rows × 6 columns</p>\n",
              "</div>"
            ],
            "text/plain": [
              "      Unnamed: 0  ... same_security\n",
              "0              0  ...          True\n",
              "1              1  ...          True\n",
              "2              2  ...         False\n",
              "3              3  ...          True\n",
              "4              4  ...          True\n",
              "...          ...  ...           ...\n",
              "2137        2137  ...          True\n",
              "2138        2138  ...          True\n",
              "2139        2139  ...         False\n",
              "2140        2140  ...          True\n",
              "2141        2141  ...          True\n",
              "\n",
              "[2142 rows x 6 columns]"
            ]
          },
          "metadata": {},
          "execution_count": 30
        }
      ]
    },
    {
      "cell_type": "code",
      "metadata": {
        "id": "PSNHEXP_FVaO"
      },
      "source": [
        "df.drop(['ticker_x','ticker_y'],axis='columns',inplace=True)"
      ],
      "execution_count": null,
      "outputs": []
    },
    {
      "cell_type": "code",
      "metadata": {
        "id": "VxYZ-3ArF_eG"
      },
      "source": [
        "df.set_index('Unnamed: 0',inplace=True)"
      ],
      "execution_count": null,
      "outputs": []
    },
    {
      "cell_type": "code",
      "metadata": {
        "id": "yhwZDOYcHMIg"
      },
      "source": [
        "df.index.names = ['idx']"
      ],
      "execution_count": null,
      "outputs": []
    },
    {
      "cell_type": "code",
      "metadata": {
        "colab": {
          "base_uri": "https://localhost:8080/",
          "height": 455
        },
        "id": "xGnhgMCvHhZp",
        "outputId": "835543d3-6d74-4d81-cc93-f142f2bdfca8"
      },
      "source": [
        "df"
      ],
      "execution_count": null,
      "outputs": [
        {
          "output_type": "execute_result",
          "data": {
            "text/html": [
              "<div>\n",
              "<style scoped>\n",
              "    .dataframe tbody tr th:only-of-type {\n",
              "        vertical-align: middle;\n",
              "    }\n",
              "\n",
              "    .dataframe tbody tr th {\n",
              "        vertical-align: top;\n",
              "    }\n",
              "\n",
              "    .dataframe thead th {\n",
              "        text-align: right;\n",
              "    }\n",
              "</style>\n",
              "<table border=\"1\" class=\"dataframe\">\n",
              "  <thead>\n",
              "    <tr style=\"text-align: right;\">\n",
              "      <th></th>\n",
              "      <th>description_x</th>\n",
              "      <th>description_y</th>\n",
              "      <th>same_security</th>\n",
              "    </tr>\n",
              "    <tr>\n",
              "      <th>idx</th>\n",
              "      <th></th>\n",
              "      <th></th>\n",
              "      <th></th>\n",
              "    </tr>\n",
              "  </thead>\n",
              "  <tbody>\n",
              "    <tr>\n",
              "      <th>0</th>\n",
              "      <td>first trust dow jones internet</td>\n",
              "      <td>first trust dj internet idx</td>\n",
              "      <td>True</td>\n",
              "    </tr>\n",
              "    <tr>\n",
              "      <th>1</th>\n",
              "      <td>schwab intl large company index etf</td>\n",
              "      <td>schwab strategic tr fundamental intl large co ...</td>\n",
              "      <td>True</td>\n",
              "    </tr>\n",
              "    <tr>\n",
              "      <th>2</th>\n",
              "      <td>vanguard small cap index adm</td>\n",
              "      <td>vanguard small-cap index fund inst</td>\n",
              "      <td>False</td>\n",
              "    </tr>\n",
              "    <tr>\n",
              "      <th>3</th>\n",
              "      <td>duke energy corp new com new isin #us4 sedol #...</td>\n",
              "      <td>duke energy corp new com new isin #us26441c204...</td>\n",
              "      <td>True</td>\n",
              "    </tr>\n",
              "    <tr>\n",
              "      <th>4</th>\n",
              "      <td>visa inc class a</td>\n",
              "      <td>visa inc.</td>\n",
              "      <td>True</td>\n",
              "    </tr>\n",
              "    <tr>\n",
              "      <th>...</th>\n",
              "      <td>...</td>\n",
              "      <td>...</td>\n",
              "      <td>...</td>\n",
              "    </tr>\n",
              "    <tr>\n",
              "      <th>2137</th>\n",
              "      <td>delta air lines inc com</td>\n",
              "      <td>delta air lines inc dela new</td>\n",
              "      <td>True</td>\n",
              "    </tr>\n",
              "    <tr>\n",
              "      <th>2138</th>\n",
              "      <td>cognizant tech solutns a</td>\n",
              "      <td>cognizant tech solutions corp</td>\n",
              "      <td>True</td>\n",
              "    </tr>\n",
              "    <tr>\n",
              "      <th>2139</th>\n",
              "      <td>pimco investment grade corporate bond fund - c...</td>\n",
              "      <td>fid conservative income bond fund</td>\n",
              "      <td>False</td>\n",
              "    </tr>\n",
              "    <tr>\n",
              "      <th>2140</th>\n",
              "      <td>eli lilly &amp; co com</td>\n",
              "      <td>lilly eli &amp;co com npv</td>\n",
              "      <td>True</td>\n",
              "    </tr>\n",
              "    <tr>\n",
              "      <th>2141</th>\n",
              "      <td>dfa comm strategy i</td>\n",
              "      <td>dfa commodity strategy port</td>\n",
              "      <td>True</td>\n",
              "    </tr>\n",
              "  </tbody>\n",
              "</table>\n",
              "<p>2142 rows × 3 columns</p>\n",
              "</div>"
            ],
            "text/plain": [
              "                                          description_x  ... same_security\n",
              "idx                                                      ...              \n",
              "0                        first trust dow jones internet  ...          True\n",
              "1                   schwab intl large company index etf  ...          True\n",
              "2                          vanguard small cap index adm  ...         False\n",
              "3     duke energy corp new com new isin #us4 sedol #...  ...          True\n",
              "4                                      visa inc class a  ...          True\n",
              "...                                                 ...  ...           ...\n",
              "2137                            delta air lines inc com  ...          True\n",
              "2138                           cognizant tech solutns a  ...          True\n",
              "2139  pimco investment grade corporate bond fund - c...  ...         False\n",
              "2140                                 eli lilly & co com  ...          True\n",
              "2141                                dfa comm strategy i  ...          True\n",
              "\n",
              "[2142 rows x 3 columns]"
            ]
          },
          "metadata": {},
          "execution_count": 34
        }
      ]
    },
    {
      "cell_type": "code",
      "metadata": {
        "id": "WmVOhT2uH04s"
      },
      "source": [
        " from sklearn import preprocessing"
      ],
      "execution_count": null,
      "outputs": []
    },
    {
      "cell_type": "code",
      "metadata": {
        "id": "H2rNqvf5IT7a"
      },
      "source": [
        "le = preprocessing.LabelEncoder()"
      ],
      "execution_count": null,
      "outputs": []
    },
    {
      "cell_type": "code",
      "metadata": {
        "id": "wl1CMaVQIWD2"
      },
      "source": [
        "le.fit(df['same_security'])"
      ],
      "execution_count": null,
      "outputs": []
    },
    {
      "cell_type": "code",
      "metadata": {
        "id": "VncGVgROJ635"
      },
      "source": [
        "df['encoded_security']=le.transform(df['same_security'])"
      ],
      "execution_count": null,
      "outputs": []
    },
    {
      "cell_type": "code",
      "metadata": {
        "colab": {
          "base_uri": "https://localhost:8080/",
          "height": 507
        },
        "id": "qCr2YEYRIxFE",
        "outputId": "5d0f5403-2d85-4d38-ebd1-5867c836b617"
      },
      "source": [
        "df"
      ],
      "execution_count": null,
      "outputs": [
        {
          "output_type": "execute_result",
          "data": {
            "text/html": [
              "<div>\n",
              "<style scoped>\n",
              "    .dataframe tbody tr th:only-of-type {\n",
              "        vertical-align: middle;\n",
              "    }\n",
              "\n",
              "    .dataframe tbody tr th {\n",
              "        vertical-align: top;\n",
              "    }\n",
              "\n",
              "    .dataframe thead th {\n",
              "        text-align: right;\n",
              "    }\n",
              "</style>\n",
              "<table border=\"1\" class=\"dataframe\">\n",
              "  <thead>\n",
              "    <tr style=\"text-align: right;\">\n",
              "      <th></th>\n",
              "      <th>description_x</th>\n",
              "      <th>description_y</th>\n",
              "      <th>same_security</th>\n",
              "      <th>encoded_security</th>\n",
              "    </tr>\n",
              "    <tr>\n",
              "      <th>idx</th>\n",
              "      <th></th>\n",
              "      <th></th>\n",
              "      <th></th>\n",
              "      <th></th>\n",
              "    </tr>\n",
              "  </thead>\n",
              "  <tbody>\n",
              "    <tr>\n",
              "      <th>0</th>\n",
              "      <td>first trust dow jones internet</td>\n",
              "      <td>first trust dj internet idx</td>\n",
              "      <td>True</td>\n",
              "      <td>1</td>\n",
              "    </tr>\n",
              "    <tr>\n",
              "      <th>1</th>\n",
              "      <td>schwab intl large company index etf</td>\n",
              "      <td>schwab strategic tr fundamental intl large co ...</td>\n",
              "      <td>True</td>\n",
              "      <td>1</td>\n",
              "    </tr>\n",
              "    <tr>\n",
              "      <th>2</th>\n",
              "      <td>vanguard small cap index adm</td>\n",
              "      <td>vanguard small-cap index fund inst</td>\n",
              "      <td>False</td>\n",
              "      <td>0</td>\n",
              "    </tr>\n",
              "    <tr>\n",
              "      <th>3</th>\n",
              "      <td>duke energy corp new com new isin #us4 sedol #...</td>\n",
              "      <td>duke energy corp new com new isin #us26441c204...</td>\n",
              "      <td>True</td>\n",
              "      <td>1</td>\n",
              "    </tr>\n",
              "    <tr>\n",
              "      <th>4</th>\n",
              "      <td>visa inc class a</td>\n",
              "      <td>visa inc.</td>\n",
              "      <td>True</td>\n",
              "      <td>1</td>\n",
              "    </tr>\n",
              "    <tr>\n",
              "      <th>...</th>\n",
              "      <td>...</td>\n",
              "      <td>...</td>\n",
              "      <td>...</td>\n",
              "      <td>...</td>\n",
              "    </tr>\n",
              "    <tr>\n",
              "      <th>2137</th>\n",
              "      <td>delta air lines inc com</td>\n",
              "      <td>delta air lines inc dela new</td>\n",
              "      <td>True</td>\n",
              "      <td>1</td>\n",
              "    </tr>\n",
              "    <tr>\n",
              "      <th>2138</th>\n",
              "      <td>cognizant tech solutns a</td>\n",
              "      <td>cognizant tech solutions corp</td>\n",
              "      <td>True</td>\n",
              "      <td>1</td>\n",
              "    </tr>\n",
              "    <tr>\n",
              "      <th>2139</th>\n",
              "      <td>pimco investment grade corporate bond fund - c...</td>\n",
              "      <td>fid conservative income bond fund</td>\n",
              "      <td>False</td>\n",
              "      <td>0</td>\n",
              "    </tr>\n",
              "    <tr>\n",
              "      <th>2140</th>\n",
              "      <td>eli lilly &amp; co com</td>\n",
              "      <td>lilly eli &amp;co com npv</td>\n",
              "      <td>True</td>\n",
              "      <td>1</td>\n",
              "    </tr>\n",
              "    <tr>\n",
              "      <th>2141</th>\n",
              "      <td>dfa comm strategy i</td>\n",
              "      <td>dfa commodity strategy port</td>\n",
              "      <td>True</td>\n",
              "      <td>1</td>\n",
              "    </tr>\n",
              "  </tbody>\n",
              "</table>\n",
              "<p>2142 rows × 4 columns</p>\n",
              "</div>"
            ],
            "text/plain": [
              "                                          description_x  ... encoded_security\n",
              "idx                                                      ...                 \n",
              "0                        first trust dow jones internet  ...                1\n",
              "1                   schwab intl large company index etf  ...                1\n",
              "2                          vanguard small cap index adm  ...                0\n",
              "3     duke energy corp new com new isin #us4 sedol #...  ...                1\n",
              "4                                      visa inc class a  ...                1\n",
              "...                                                 ...  ...              ...\n",
              "2137                            delta air lines inc com  ...                1\n",
              "2138                           cognizant tech solutns a  ...                1\n",
              "2139  pimco investment grade corporate bond fund - c...  ...                0\n",
              "2140                                 eli lilly & co com  ...                1\n",
              "2141                                dfa comm strategy i  ...                1\n",
              "\n",
              "[2142 rows x 4 columns]"
            ]
          },
          "metadata": {},
          "execution_count": 37
        }
      ]
    },
    {
      "cell_type": "code",
      "metadata": {
        "id": "vkheacolbpn4"
      },
      "source": [
        "df_test=pd.read_csv('/content/test.csv')"
      ],
      "execution_count": null,
      "outputs": []
    },
    {
      "cell_type": "code",
      "metadata": {
        "colab": {
          "base_uri": "https://localhost:8080/",
          "height": 423
        },
        "id": "m8FNFOUHcAAH",
        "outputId": "aebbaf1c-bc92-422e-a53e-6a30b13e324f"
      },
      "source": [
        "df_test"
      ],
      "execution_count": null,
      "outputs": [
        {
          "output_type": "execute_result",
          "data": {
            "text/html": [
              "<div>\n",
              "<style scoped>\n",
              "    .dataframe tbody tr th:only-of-type {\n",
              "        vertical-align: middle;\n",
              "    }\n",
              "\n",
              "    .dataframe tbody tr th {\n",
              "        vertical-align: top;\n",
              "    }\n",
              "\n",
              "    .dataframe thead th {\n",
              "        text-align: right;\n",
              "    }\n",
              "</style>\n",
              "<table border=\"1\" class=\"dataframe\">\n",
              "  <thead>\n",
              "    <tr style=\"text-align: right;\">\n",
              "      <th></th>\n",
              "      <th>test_id</th>\n",
              "      <th>description_x</th>\n",
              "      <th>description_y</th>\n",
              "      <th>same_security</th>\n",
              "    </tr>\n",
              "  </thead>\n",
              "  <tbody>\n",
              "    <tr>\n",
              "      <th>0</th>\n",
              "      <td>0</td>\n",
              "      <td>semtech corp</td>\n",
              "      <td>semtech corporation</td>\n",
              "      <td>NaN</td>\n",
              "    </tr>\n",
              "    <tr>\n",
              "      <th>1</th>\n",
              "      <td>1</td>\n",
              "      <td>vanguard mid cap index</td>\n",
              "      <td>vanguard midcap index - a</td>\n",
              "      <td>NaN</td>\n",
              "    </tr>\n",
              "    <tr>\n",
              "      <th>2</th>\n",
              "      <td>2</td>\n",
              "      <td>spdr gold trust gold shares</td>\n",
              "      <td>spdr gold trust spdr gold shares</td>\n",
              "      <td>NaN</td>\n",
              "    </tr>\n",
              "    <tr>\n",
              "      <th>3</th>\n",
              "      <td>3</td>\n",
              "      <td>vanguard total bond index adm</td>\n",
              "      <td>vanguard total bond market index</td>\n",
              "      <td>NaN</td>\n",
              "    </tr>\n",
              "    <tr>\n",
              "      <th>4</th>\n",
              "      <td>4</td>\n",
              "      <td>oakmark international fund class i</td>\n",
              "      <td>oakmark international cl i</td>\n",
              "      <td>NaN</td>\n",
              "    </tr>\n",
              "    <tr>\n",
              "      <th>...</th>\n",
              "      <td>...</td>\n",
              "      <td>...</td>\n",
              "      <td>...</td>\n",
              "      <td>...</td>\n",
              "    </tr>\n",
              "    <tr>\n",
              "      <th>511</th>\n",
              "      <td>511</td>\n",
              "      <td>at&amp;t inc com isin #us00206r1023 sedol #2831811</td>\n",
              "      <td>franklin res inc com isin #us8 sedol #2350684</td>\n",
              "      <td>NaN</td>\n",
              "    </tr>\n",
              "    <tr>\n",
              "      <th>512</th>\n",
              "      <td>512</td>\n",
              "      <td>vanguard total international bond index etf</td>\n",
              "      <td>vanguard total international bond et</td>\n",
              "      <td>NaN</td>\n",
              "    </tr>\n",
              "    <tr>\n",
              "      <th>513</th>\n",
              "      <td>513</td>\n",
              "      <td>wisdomtree japan hedged equity -</td>\n",
              "      <td>wisdomtree japan hedged eq</td>\n",
              "      <td>NaN</td>\n",
              "    </tr>\n",
              "    <tr>\n",
              "      <th>514</th>\n",
              "      <td>514</td>\n",
              "      <td>templeton global bond fund advisor class</td>\n",
              "      <td>templeton glbal bond adv</td>\n",
              "      <td>NaN</td>\n",
              "    </tr>\n",
              "    <tr>\n",
              "      <th>515</th>\n",
              "      <td>515</td>\n",
              "      <td>trp health sciences</td>\n",
              "      <td>t. rowe price health sciences fund</td>\n",
              "      <td>NaN</td>\n",
              "    </tr>\n",
              "  </tbody>\n",
              "</table>\n",
              "<p>516 rows × 4 columns</p>\n",
              "</div>"
            ],
            "text/plain": [
              "     test_id  ... same_security\n",
              "0          0  ...           NaN\n",
              "1          1  ...           NaN\n",
              "2          2  ...           NaN\n",
              "3          3  ...           NaN\n",
              "4          4  ...           NaN\n",
              "..       ...  ...           ...\n",
              "511      511  ...           NaN\n",
              "512      512  ...           NaN\n",
              "513      513  ...           NaN\n",
              "514      514  ...           NaN\n",
              "515      515  ...           NaN\n",
              "\n",
              "[516 rows x 4 columns]"
            ]
          },
          "metadata": {},
          "execution_count": 101
        }
      ]
    },
    {
      "cell_type": "code",
      "metadata": {
        "id": "kDW_ZcEILC8f"
      },
      "source": [
        "from keras.preprocessing.text import Tokenizer\n",
        "from keras.preprocessing.sequence import pad_sequences"
      ],
      "execution_count": null,
      "outputs": []
    },
    {
      "cell_type": "code",
      "metadata": {
        "id": "UN9YeSd_MfiO"
      },
      "source": [
        "list1=list(df['description_x'])"
      ],
      "execution_count": null,
      "outputs": []
    },
    {
      "cell_type": "code",
      "metadata": {
        "id": "xEI8EOWiM5Vd"
      },
      "source": [
        "list2=list(df['description_y'])"
      ],
      "execution_count": null,
      "outputs": []
    },
    {
      "cell_type": "code",
      "metadata": {
        "id": "IVoHWEN8NFU6"
      },
      "source": [
        "lst=list1 + list2"
      ],
      "execution_count": null,
      "outputs": []
    },
    {
      "cell_type": "code",
      "metadata": {
        "colab": {
          "base_uri": "https://localhost:8080/"
        },
        "id": "9ITnJeVyM5SB",
        "outputId": "4f13731c-a801-4651-94f0-37d75b2f7209"
      },
      "source": [
        "len(lst)"
      ],
      "execution_count": null,
      "outputs": [
        {
          "output_type": "execute_result",
          "data": {
            "text/plain": [
              "4284"
            ]
          },
          "metadata": {},
          "execution_count": 52
        }
      ]
    },
    {
      "cell_type": "code",
      "metadata": {
        "id": "ItAgPlIjLsKL"
      },
      "source": [
        "tokenizer = Tokenizer()\n",
        "tokenizer.fit_on_texts(lst)"
      ],
      "execution_count": null,
      "outputs": []
    },
    {
      "cell_type": "code",
      "metadata": {
        "id": "a6IyotLrTglm"
      },
      "source": [
        "word_index=tokenizer.word_index"
      ],
      "execution_count": null,
      "outputs": []
    },
    {
      "cell_type": "code",
      "metadata": {
        "id": "oyEdDau4Tlin"
      },
      "source": [
        "vocab_size=len(word_index)+1"
      ],
      "execution_count": null,
      "outputs": []
    },
    {
      "cell_type": "code",
      "metadata": {
        "id": "o8gxo3FOPhvF"
      },
      "source": [
        "sentence1_squence=tokenizer.texts_to_sequences(df['description_x'])\n",
        "sentence2_squence=tokenizer.texts_to_sequences(df['description_y'])"
      ],
      "execution_count": null,
      "outputs": []
    },
    {
      "cell_type": "code",
      "metadata": {
        "id": "Vip1VU7ib0yv"
      },
      "source": [
        "sentence1_squence_test=tokenizer.texts_to_sequences(df_test['description_x'])\n",
        "sentence2_squence_test=tokenizer.texts_to_sequences(df_test['description_y'])"
      ],
      "execution_count": null,
      "outputs": []
    },
    {
      "cell_type": "code",
      "metadata": {
        "id": "pTZHTWwnQm2C"
      },
      "source": [
        "seq_lengths=[len(seq) for seq in sentence1_squence]"
      ],
      "execution_count": null,
      "outputs": []
    },
    {
      "cell_type": "code",
      "metadata": {
        "id": "I-Ux1B2MRAqA"
      },
      "source": [
        "seq_lengths2=[len(seq) for seq in sentence2_squence]"
      ],
      "execution_count": null,
      "outputs": []
    },
    {
      "cell_type": "code",
      "metadata": {
        "colab": {
          "base_uri": "https://localhost:8080/"
        },
        "id": "9NtLTkVdRLve",
        "outputId": "0592c642-e0ae-482c-c86a-a8c933c5f6aa"
      },
      "source": [
        "max(seq_lengths)"
      ],
      "execution_count": null,
      "outputs": [
        {
          "output_type": "execute_result",
          "data": {
            "text/plain": [
              "17"
            ]
          },
          "metadata": {},
          "execution_count": 61
        }
      ]
    },
    {
      "cell_type": "code",
      "metadata": {
        "colab": {
          "base_uri": "https://localhost:8080/"
        },
        "id": "EeyXSXzSRP3k",
        "outputId": "8995bc39-58f0-4874-87f7-908fd000cc68"
      },
      "source": [
        "max(seq_lengths2)"
      ],
      "execution_count": null,
      "outputs": [
        {
          "output_type": "execute_result",
          "data": {
            "text/plain": [
              "16"
            ]
          },
          "metadata": {},
          "execution_count": 62
        }
      ]
    },
    {
      "cell_type": "code",
      "metadata": {
        "id": "d00qas89RcRN"
      },
      "source": [
        "max_seq_length=15"
      ],
      "execution_count": null,
      "outputs": []
    },
    {
      "cell_type": "code",
      "metadata": {
        "id": "sij6pVu_Rt_J"
      },
      "source": [
        "sentence1_padded=pad_sequences(sentence1_squence, maxlen=max_seq_length)\n",
        "sentence2_padded=pad_sequences(sentence2_squence, maxlen=max_seq_length)"
      ],
      "execution_count": null,
      "outputs": []
    },
    {
      "cell_type": "code",
      "metadata": {
        "id": "g66MocnzcKha"
      },
      "source": [
        "sentence1_padded_test=pad_sequences(sentence1_squence_test, maxlen=max_seq_length)\n",
        "sentence2_padded_test=pad_sequences(sentence2_squence_test, maxlen=max_seq_length)"
      ],
      "execution_count": null,
      "outputs": []
    },
    {
      "cell_type": "code",
      "metadata": {
        "colab": {
          "base_uri": "https://localhost:8080/"
        },
        "id": "nK4-bO7VTT8N",
        "outputId": "ceac77ee-dd51-4d58-fd40-47506048501c"
      },
      "source": [
        "sentence1_padded.shape"
      ],
      "execution_count": null,
      "outputs": [
        {
          "output_type": "execute_result",
          "data": {
            "text/plain": [
              "(2142, 15)"
            ]
          },
          "metadata": {},
          "execution_count": 68
        }
      ]
    },
    {
      "cell_type": "code",
      "metadata": {
        "colab": {
          "base_uri": "https://localhost:8080/"
        },
        "id": "u407MpfDfp-6",
        "outputId": "24f8bb9b-f8bb-4d64-e4c2-9ddf70da570a"
      },
      "source": [
        "2142*0.2"
      ],
      "execution_count": null,
      "outputs": [
        {
          "output_type": "execute_result",
          "data": {
            "text/plain": [
              "428.40000000000003"
            ]
          },
          "metadata": {},
          "execution_count": 116
        }
      ]
    },
    {
      "cell_type": "code",
      "metadata": {
        "colab": {
          "base_uri": "https://localhost:8080/"
        },
        "id": "WADni0JNfwtE",
        "outputId": "1d4b31b1-9878-4f27-ef14-61d0bc991cf3"
      },
      "source": [
        "2142-428"
      ],
      "execution_count": null,
      "outputs": [
        {
          "output_type": "execute_result",
          "data": {
            "text/plain": [
              "1714"
            ]
          },
          "metadata": {},
          "execution_count": 117
        }
      ]
    },
    {
      "cell_type": "code",
      "metadata": {
        "id": "9ku-ajT7SWJB"
      },
      "source": [
        "from keras.layers.embeddings import Embedding\n",
        "from keras.models import Model\n",
        "from keras.layers import Dense, Input, LSTM, Dropout, Bidirectional, Input"
      ],
      "execution_count": null,
      "outputs": []
    },
    {
      "cell_type": "code",
      "metadata": {
        "id": "P3XhHq9iR8d_"
      },
      "source": [
        "def my_base_model():\n",
        "  input=Input(shape=(15,))\n",
        "  embedding_out=Embedding(vocab_size,32,input_length=max_seq_length)(input)\n",
        "  x=LSTM(128,return_sequences=True)(embedding_out)\n",
        "  #x=LSTM(128,return_sequences=False)(x)\n",
        "  out_put=Dense(10,activation='relu')(x)\n",
        "\n",
        "  model=Model(inputs=input,outputs=out_put)\n",
        "  return model"
      ],
      "execution_count": null,
      "outputs": []
    },
    {
      "cell_type": "code",
      "metadata": {
        "id": "IjpjyLRxVeqs"
      },
      "source": [
        "from tensorflow.python.keras.utils.vis_utils import plot_model"
      ],
      "execution_count": null,
      "outputs": []
    },
    {
      "cell_type": "code",
      "metadata": {
        "id": "EL1EFmJoV8_S"
      },
      "source": [
        "import matplotlib.pyplot as plt"
      ],
      "execution_count": null,
      "outputs": []
    },
    {
      "cell_type": "code",
      "metadata": {
        "colab": {
          "base_uri": "https://localhost:8080/",
          "height": 422
        },
        "id": "6QkLNS6uV_dM",
        "outputId": "3559bbfd-1850-45e4-a20d-4e71459361ba"
      },
      "source": [
        "base_network = my_base_model()\n",
        "plot_model(base_network, show_shapes=True, show_layer_names=True)"
      ],
      "execution_count": null,
      "outputs": [
        {
          "output_type": "execute_result",
          "data": {
            "image/png": "[encoded data removed]",
            "text/plain": [
              "<IPython.core.display.Image object>"
            ]
          },
          "metadata": {},
          "execution_count": 108
        }
      ]
    },
    {
      "cell_type": "code",
      "metadata": {
        "id": "g4qV0MJzX5WR"
      },
      "source": [
        "from sklearn.metrics.pairwise import cosine_similarity\n",
        "def cosin_dist(vects):\n",
        "  x, y = vects\n",
        "  return cosine_similarity(x,y)\n",
        "\n",
        "def cosin_dist_output_shape(shapes):\n",
        "    shape1, shape2 = shapes\n",
        "    return (shape1[0], 1)"
      ],
      "execution_count": null,
      "outputs": []
    },
    {
      "cell_type": "code",
      "metadata": {
        "id": "uxSLdSS7a__t"
      },
      "source": [
        "from tensorflow.keras import backend as K"
      ],
      "execution_count": null,
      "outputs": []
    },
    {
      "cell_type": "code",
      "metadata": {
        "id": "0jCgqDOnayZ8"
      },
      "source": [
        "def euclidean_distance(vects):\n",
        "    x, y = vects\n",
        "    sum_square = K.sum(K.square(x - y), axis=1, keepdims=True)\n",
        "    return K.sqrt(K.maximum(sum_square, K.epsilon()))\n",
        "\n",
        "\n",
        "def eucl_dist_output_shape(shapes):\n",
        "    shape1, shape2 = shapes\n",
        "    return (shape1[0], 1)"
      ],
      "execution_count": null,
      "outputs": []
    },
    {
      "cell_type": "code",
      "metadata": {
        "id": "AknLbXfsZb-z"
      },
      "source": [
        "from tensorflow.keras.layers import Lambda"
      ],
      "execution_count": null,
      "outputs": []
    },
    {
      "cell_type": "code",
      "metadata": {
        "id": "QuPBs5UEY87x"
      },
      "source": [
        "input_a = Input(shape=(15,), name=\"sentence1\")\n",
        "vect_output_a = base_network(input_a)\n",
        "\n",
        "input_b = Input(shape=(15,), name=\"sentence2\")\n",
        "vect_output_b = base_network(input_b)\n",
        "\n",
        "#output = Lambda(cosin_dist, name=\"output_layer\", output_shape=cosin_dist_output_shape)([vect_output_a, vect_output_b])\n",
        "output = Lambda(euclidean_distance, name=\"output_layer\", output_shape=eucl_dist_output_shape)([vect_output_a, vect_output_b])\n",
        "\n",
        "# specify the inputs and output of the model\n",
        "model = Model([input_a, input_b], output)"
      ],
      "execution_count": null,
      "outputs": []
    },
    {
      "cell_type": "code",
      "metadata": {
        "colab": {
          "base_uri": "https://localhost:8080/",
          "height": 312
        },
        "id": "477ln9MCbDca",
        "outputId": "83f86e7c-e91d-4a17-e067-3c20ddc6684d"
      },
      "source": [
        "plot_model(model, show_shapes=True, show_layer_names=True)"
      ],
      "execution_count": null,
      "outputs": [
        {
          "output_type": "execute_result",
          "data": {
            "image/png": "[encoded data removed]",
            "text/plain": [
              "<IPython.core.display.Image object>"
            ]
          },
          "metadata": {},
          "execution_count": 110
        }
      ]
    },
    {
      "cell_type": "code",
      "metadata": {
        "id": "TKje59JnbV15"
      },
      "source": [
        "def contrastive_loss_with_margin(margin):\n",
        "    def contrastive_loss(y_true, y_pred):\n",
        "        '''Contrastive loss from Hadsell-et-al.'06\n",
        "        http://yann.lecun.com/exdb/publis/pdf/hadsell-chopra-lecun-06.pdf\n",
        "        '''\n",
        "        square_pred = K.square(y_pred)\n",
        "        margin_square = K.square(K.maximum(margin - y_pred, 0))\n",
        "        return (y_true * square_pred + (1 - y_true) * margin_square)\n",
        "    return contrastive_loss"
      ],
      "execution_count": null,
      "outputs": []
    },
    {
      "cell_type": "code",
      "metadata": {
        "id": "ASmjz5EHdCl1"
      },
      "source": [
        "from tensorflow.keras.optimizers import RMSprop"
      ],
      "execution_count": null,
      "outputs": []
    },
    {
      "cell_type": "code",
      "metadata": {
        "id": "Hg4kumcHeHF4"
      },
      "source": [
        "train_y = df['encoded_security'].astype(np.float16)"
      ],
      "execution_count": null,
      "outputs": []
    },
    {
      "cell_type": "code",
      "metadata": {
        "colab": {
          "base_uri": "https://localhost:8080/"
        },
        "id": "zWIakAlvbbzb",
        "outputId": "cbb8cd7e-5569-4d1f-b9fe-d4411e467604"
      },
      "source": [
        "rms = RMSprop()\n",
        "model.compile(loss=contrastive_loss_with_margin(margin=1), optimizer=rms,metrics=['accuracy'])\n",
        "history = model.fit([sentence1_padded[:1714],sentence2_padded[:1714]], train_y[:1714], epochs=20, validation_data=([sentence1_padded[1714:],sentence2_padded[1714:]], train_y[1714:]))"
      ],
      "execution_count": null,
      "outputs": [
        {
          "output_type": "stream",
          "name": "stdout",
          "text": [
            "Epoch 1/20\n",
            "54/54 [==============================] - 5s 43ms/step - loss: 0.1890 - accuracy: 0.0636 - val_loss: 0.1901 - val_accuracy: 0.0584\n",
            "Epoch 2/20\n",
            "54/54 [==============================] - 2s 29ms/step - loss: 0.1883 - accuracy: 0.0706 - val_loss: 0.1903 - val_accuracy: 0.1005\n",
            "Epoch 3/20\n",
            "54/54 [==============================] - 2s 29ms/step - loss: 0.1886 - accuracy: 0.0758 - val_loss: 0.1922 - val_accuracy: 0.0350\n",
            "Epoch 4/20\n",
            "54/54 [==============================] - 2s 29ms/step - loss: 0.1889 - accuracy: 0.1074 - val_loss: 0.1904 - val_accuracy: 0.0911\n",
            "Epoch 5/20\n",
            "54/54 [==============================] - 2s 29ms/step - loss: 0.1884 - accuracy: 0.0712 - val_loss: 0.1921 - val_accuracy: 0.1005\n",
            "Epoch 6/20\n",
            "54/54 [==============================] - 2s 28ms/step - loss: 0.1886 - accuracy: 0.0630 - val_loss: 0.1911 - val_accuracy: 0.0748\n",
            "Epoch 7/20\n",
            "54/54 [==============================] - 2s 29ms/step - loss: 0.1886 - accuracy: 0.0712 - val_loss: 0.1912 - val_accuracy: 0.1308\n",
            "Epoch 8/20\n",
            "54/54 [==============================] - 2s 29ms/step - loss: 0.1881 - accuracy: 0.0618 - val_loss: 0.1910 - val_accuracy: 0.0888\n",
            "Epoch 9/20\n",
            "54/54 [==============================] - 2s 30ms/step - loss: 0.1888 - accuracy: 0.0560 - val_loss: 0.1904 - val_accuracy: 0.0701\n",
            "Epoch 10/20\n",
            "54/54 [==============================] - 2s 29ms/step - loss: 0.1884 - accuracy: 0.0694 - val_loss: 0.1908 - val_accuracy: 0.0257\n",
            "Epoch 11/20\n",
            "54/54 [==============================] - 2s 29ms/step - loss: 0.1884 - accuracy: 0.0723 - val_loss: 0.1905 - val_accuracy: 0.0841\n",
            "Epoch 12/20\n",
            "54/54 [==============================] - 2s 29ms/step - loss: 0.1886 - accuracy: 0.0578 - val_loss: 0.1909 - val_accuracy: 0.0467\n",
            "Epoch 13/20\n",
            "54/54 [==============================] - 2s 29ms/step - loss: 0.1885 - accuracy: 0.0513 - val_loss: 0.1912 - val_accuracy: 0.0280\n",
            "Epoch 14/20\n",
            "54/54 [==============================] - 2s 29ms/step - loss: 0.1885 - accuracy: 0.0671 - val_loss: 0.1940 - val_accuracy: 0.0701\n",
            "Epoch 15/20\n",
            "54/54 [==============================] - 2s 29ms/step - loss: 0.1887 - accuracy: 0.0688 - val_loss: 0.1916 - val_accuracy: 0.0561\n",
            "Epoch 16/20\n",
            "54/54 [==============================] - 2s 29ms/step - loss: 0.1887 - accuracy: 0.0572 - val_loss: 0.1903 - val_accuracy: 0.0794\n",
            "Epoch 17/20\n",
            "54/54 [==============================] - 2s 29ms/step - loss: 0.1885 - accuracy: 0.0543 - val_loss: 0.1909 - val_accuracy: 0.0631\n",
            "Epoch 18/20\n",
            "54/54 [==============================] - 2s 29ms/step - loss: 0.1884 - accuracy: 0.0613 - val_loss: 0.1906 - val_accuracy: 0.0607\n",
            "Epoch 19/20\n",
            "54/54 [==============================] - 2s 29ms/step - loss: 0.1882 - accuracy: 0.0449 - val_loss: 0.1904 - val_accuracy: 0.0514\n",
            "Epoch 20/20\n",
            "54/54 [==============================] - 2s 29ms/step - loss: 0.1887 - accuracy: 0.0613 - val_loss: 0.1905 - val_accuracy: 0.0631\n"
          ]
        }
      ]
    },
    {
      "cell_type": "code",
      "metadata": {
        "colab": {
          "base_uri": "https://localhost:8080/",
          "height": 281
        },
        "id": "x3L0yvgReYim",
        "outputId": "d77f55c3-01cc-4eef-b611-50d382b63798"
      },
      "source": [
        "def plot_metrics(metric_name, title, ylim=5):\n",
        "    plt.title(title)\n",
        "    plt.ylim(0,ylim)\n",
        "    plt.plot(history.history[metric_name],color='blue',label=metric_name)\n",
        "    plt.plot(history.history['val_' + metric_name],color='green',label='val_' + metric_name)\n",
        "    plt.legend(['train', 'val'], loc='lower left')\n",
        "\n",
        "plot_metrics(metric_name='loss', title=\"loss\", ylim=0.2)"
      ],
      "execution_count": null,
      "outputs": [
        {
          "output_type": "display_data",
          "data": {
            "image/png": "[encoded data removed]",
            "text/plain": [
              "<Figure size 432x288 with 1 Axes>"
            ]
          },
          "metadata": {
            "needs_background": "light"
          }
        }
      ]
    },
    {
      "cell_type": "code",
      "metadata": {
        "colab": {
          "base_uri": "https://localhost:8080/",
          "height": 281
        },
        "id": "w4YGnh5fhnw6",
        "outputId": "e1cafad3-b8cd-4414-8d9a-8eb3f080a7f3"
      },
      "source": [
        "plot_metrics(metric_name='accuracy', title=\"accuracy\", ylim=0.2)"
      ],
      "execution_count": null,
      "outputs": [
        {
          "output_type": "display_data",
          "data": {
            "image/png": "[encoded data removed]",
            "text/plain": [
              "<Figure size 432x288 with 1 Axes>"
            ]
          },
          "metadata": {
            "needs_background": "light"
          }
        }
      ]
    }
  ]
}